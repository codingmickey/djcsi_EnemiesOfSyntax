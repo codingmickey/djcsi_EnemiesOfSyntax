{
  "nbformat": 4,
  "nbformat_minor": 0,
  "metadata": {
    "colab": {
      "provenance": []
    },
    "kernelspec": {
      "name": "python3",
      "display_name": "Python 3"
    },
    "language_info": {
      "name": "python"
    }
  },
  "cells": [
    {
      "cell_type": "code",
      "execution_count": 1,
      "metadata": {
        "colab": {
          "base_uri": "https://localhost:8080/"
        },
        "id": "BFVldQnaLsK0",
        "outputId": "704ba78e-a854-4ca7-c952-efb0ad46c98b"
      },
      "outputs": [
        {
          "output_type": "stream",
          "name": "stdout",
          "text": [
            "Paint calculator\n",
            "Enter a wall size as width, height in feet or press enter to stop\n",
            "Example: 12,8\n",
            "Enter a wall size:12,8\n",
            "Adding wall: [12, 8]\n",
            "Enter a wall size:14,8\n",
            "Adding wall: [14, 8]\n",
            "Enter a wall size:\n",
            "You entered [[12, 8], [14, 8]]\n",
            "You need to buy 0.59 gallons of paint\n"
          ]
        }
      ],
      "source": [
        "print('Paint calculator')\n",
        "print('Enter a wall size as width, height in feet or press enter to stop')\n",
        "print('Example: 12,8')\n",
        "\n",
        "#Variables\n",
        "walls = [] #List of walls measurements\n",
        "gallons  = 1 / 350 #One gallon covers 350 sqft\n",
        "total = 0 #Total gallons to buy\n",
        "\n",
        "#Get the user input\n",
        "while True:\n",
        "    s = input('Enter a wall size:')\n",
        "    if len(s) == 0: break\n",
        "\n",
        "    #Verify the input\n",
        "    sqft = s.split(',')\n",
        "    if len(sqft) < 2:\n",
        "        print('Invalid format')\n",
        "        break\n",
        "\n",
        "    #Convert the strings to ints\n",
        "    w = int(sqft[0])\n",
        "    h = int(sqft[1])\n",
        "    item = [w,h]\n",
        "    walls.append(item)\n",
        "    print(f'Adding wall: {item}')\n",
        "\n",
        "#Calculate the numbers\n",
        "print(f'You entered {walls}')\n",
        "for m in walls:\n",
        "    w = m[0]\n",
        "    h = m[1]\n",
        "    s = w * h\n",
        "    v = s * gallons\n",
        "    total += v\n",
        "    \n",
        "print(f'You need to buy {round(total,2)} gallons of paint')\n"
      ]
    }
  ]
}